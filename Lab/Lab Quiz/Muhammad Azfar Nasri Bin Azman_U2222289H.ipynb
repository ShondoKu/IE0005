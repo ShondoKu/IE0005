{
 "cells": [
  {
   "cell_type": "code",
   "execution_count": null,
   "metadata": {},
   "outputs": [],
   "source": []
  }
 ],
 "metadata": {
  "kernelspec": {
   "display_name": "ee0005",
   "language": "python",
   "name": "python3"
  },
  "language_info": {
   "name": "python",
   "version": "3.9.15"
  },
  "orig_nbformat": 4,
  "vscode": {
   "interpreter": {
    "hash": "b5ecb61516b1243d567afd41f9dd9d0009ccfa8080c336b0c8cbc21bfc0021e7"
   }
  }
 },
 "nbformat": 4,
 "nbformat_minor": 2
}
