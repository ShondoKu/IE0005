{
 "cells": [
  {
   "cell_type": "code",
   "execution_count": 2,
   "id": "ac480b60",
   "metadata": {},
   "outputs": [
    {
     "name": "stdout",
     "output_type": "stream",
     "text": [
      "captainhook@neverland.com\n",
      "\n",
      "cleopatra@pharaoh.org\n",
      "\n",
      "d.vader@empire.net\n",
      "\n",
      "alice@wonderland.co.uk\n"
     ]
    }
   ],
   "source": [
    "from os import path\n",
    "file_path = path.abspath('') # full path of your script\n",
    "dir_path = path.dirname(file_path) # full path of the directory of your script\n",
    "blocklist_file_path = path.join(dir_path,'blocklist.txt')\n",
    "visitorlist_file_path = path.join(dir_path,'visitorlist.txt')\n",
    "\n",
    "try: \n",
    "    v=open('visitorlist.txt')\n",
    "    visitors=v.read().split('\\n')\n",
    "\n",
    "    for x in visitors:\n",
    "        if x == \"alice@wonderland.co.uk\":\n",
    "            b=open('blocklist.txt','a')\n",
    "            b.write(\"\\n\"+x)\n",
    "            b.close()\n",
    "\n",
    "    b=open('blocklist.txt')\n",
    "    for u in b.readlines():\n",
    "        print(u)\n",
    "\n",
    "except FileNotFoundError:\n",
    "    if path.exists(blocklist_file_path) == False:\n",
    "        print('File blocklist.txt not found!')\n",
    "    elif path.exists(visitorlist_file_path) == False:\n",
    "        print('File visitorlist.txt not found!')\n",
    "else:\n",
    "    v.close()\n",
    "    b.close()"
   ]
  },
  {
   "cell_type": "code",
   "execution_count": null,
   "id": "f84a6f8f",
   "metadata": {},
   "outputs": [],
   "source": []
  }
 ],
 "metadata": {
  "kernelspec": {
   "display_name": "Python 3 (ipykernel)",
   "language": "python",
   "name": "python3"
  },
  "language_info": {
   "codemirror_mode": {
    "name": "ipython",
    "version": 3
   },
   "file_extension": ".py",
   "mimetype": "text/x-python",
   "name": "python",
   "nbconvert_exporter": "python",
   "pygments_lexer": "ipython3",
   "version": "3.9.13"
  }
 },
 "nbformat": 4,
 "nbformat_minor": 5
}
